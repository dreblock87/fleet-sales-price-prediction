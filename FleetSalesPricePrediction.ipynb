{
 "cells": [
  {
   "cell_type": "code",
   "execution_count": 1,
   "metadata": {},
   "outputs": [],
   "source": [
    "import pandas as pd\n",
    "import numpy as np\n",
    "import matplotlib.pyplot as plt\n",
    "import math\n",
    "import seaborn as sns\n",
    "sns.set(rc={'figure.figsize':(15,10)})"
   ]
  },
  {
   "cell_type": "code",
   "execution_count": 2,
   "metadata": {},
   "outputs": [],
   "source": [
    "df = pd.read_csv('SeattleFleetEquipmentSales.csv', parse_dates=['SALE_DATE'])"
   ]
  },
  {
   "cell_type": "code",
   "execution_count": 3,
   "metadata": {},
   "outputs": [
    {
     "name": "stdout",
     "output_type": "stream",
     "text": [
      "<class 'pandas.core.frame.DataFrame'>\n",
      "RangeIndex: 1055 entries, 0 to 1054\n",
      "Data columns (total 11 columns):\n",
      "EQUIP_ID          1055 non-null object\n",
      "YEAR              1055 non-null int64\n",
      "MAKE              1055 non-null object\n",
      "MODEL             1055 non-null object\n",
      "DESCRIPTION       1055 non-null object\n",
      "DEPT              1055 non-null object\n",
      "SALE_PRICE        1055 non-null float64\n",
      "SALE_DATE         1055 non-null datetime64[ns]\n",
      "SOLD_BY           1055 non-null object\n",
      "VIN               1055 non-null object\n",
      "Equipment Type    1055 non-null object\n",
      "dtypes: datetime64[ns](1), float64(1), int64(1), object(8)\n",
      "memory usage: 90.7+ KB\n"
     ]
    }
   ],
   "source": [
    "df.info()"
   ]
  },
  {
   "cell_type": "code",
   "execution_count": 4,
   "metadata": {},
   "outputs": [],
   "source": [
    "df['SALE_YEAR'] = pd.DatetimeIndex(df['SALE_DATE']).year"
   ]
  },
  {
   "cell_type": "code",
   "execution_count": 5,
   "metadata": {},
   "outputs": [],
   "source": [
    "df['EQUIPMENT_AGE'] = df['SALE_YEAR'] - df['YEAR']"
   ]
  },
  {
   "cell_type": "code",
   "execution_count": 6,
   "metadata": {},
   "outputs": [
    {
     "name": "stdout",
     "output_type": "stream",
     "text": [
      "<class 'pandas.core.frame.DataFrame'>\n",
      "RangeIndex: 1055 entries, 0 to 1054\n",
      "Data columns (total 13 columns):\n",
      "EQUIP_ID          1055 non-null object\n",
      "YEAR              1055 non-null int64\n",
      "MAKE              1055 non-null object\n",
      "MODEL             1055 non-null object\n",
      "DESCRIPTION       1055 non-null object\n",
      "DEPT              1055 non-null object\n",
      "SALE_PRICE        1055 non-null float64\n",
      "SALE_DATE         1055 non-null datetime64[ns]\n",
      "SOLD_BY           1055 non-null object\n",
      "VIN               1055 non-null object\n",
      "Equipment Type    1055 non-null object\n",
      "SALE_YEAR         1055 non-null int64\n",
      "EQUIPMENT_AGE     1055 non-null int64\n",
      "dtypes: datetime64[ns](1), float64(1), int64(3), object(8)\n",
      "memory usage: 107.2+ KB\n"
     ]
    }
   ],
   "source": [
    "df.info()"
   ]
  },
  {
   "cell_type": "code",
   "execution_count": 7,
   "metadata": {},
   "outputs": [],
   "source": [
    "df = pd.get_dummies(df, columns=['DEPT','SOLD_BY','MAKE','MODEL','Equipment Type','DESCRIPTION'])"
   ]
  },
  {
   "cell_type": "code",
   "execution_count": 8,
   "metadata": {},
   "outputs": [
    {
     "data": {
      "text/html": [
       "<div>\n",
       "<style scoped>\n",
       "    .dataframe tbody tr th:only-of-type {\n",
       "        vertical-align: middle;\n",
       "    }\n",
       "\n",
       "    .dataframe tbody tr th {\n",
       "        vertical-align: top;\n",
       "    }\n",
       "\n",
       "    .dataframe thead th {\n",
       "        text-align: right;\n",
       "    }\n",
       "</style>\n",
       "<table border=\"1\" class=\"dataframe\">\n",
       "  <thead>\n",
       "    <tr style=\"text-align: right;\">\n",
       "      <th></th>\n",
       "      <th>YEAR</th>\n",
       "      <th>SALE_PRICE</th>\n",
       "      <th>SALE_YEAR</th>\n",
       "      <th>EQUIPMENT_AGE</th>\n",
       "      <th>DEPT_CEN</th>\n",
       "      <th>DEPT_DON</th>\n",
       "      <th>DEPT_DPR</th>\n",
       "      <th>DEPT_FAS</th>\n",
       "      <th>DEPT_HSD</th>\n",
       "      <th>DEPT_ITD</th>\n",
       "      <th>...</th>\n",
       "      <th>DESCRIPTION_VAN CARGO</th>\n",
       "      <th>DESCRIPTION_VAN CARGO CAMERA WITH GENERATOR 313841</th>\n",
       "      <th>DESCRIPTION_VAN CARGO E250</th>\n",
       "      <th>DESCRIPTION_VAN CARGO SPRINTER 3500  9990GVW</th>\n",
       "      <th>DESCRIPTION_VAN PASSENGER</th>\n",
       "      <th>DESCRIPTION_VAN PASSENGER FULL SIZE</th>\n",
       "      <th>DESCRIPTION_VAN WALK IN</th>\n",
       "      <th>DESCRIPTION_WALKIN VAN - CLASS 4</th>\n",
       "      <th>DESCRIPTION_WHEEL LOADER - 29000 LB</th>\n",
       "      <th>DESCRIPTION_YARD SWEEPER - SELF PROPELLED</th>\n",
       "    </tr>\n",
       "  </thead>\n",
       "  <tbody>\n",
       "    <tr>\n",
       "      <th>count</th>\n",
       "      <td>1055.000000</td>\n",
       "      <td>1055.000000</td>\n",
       "      <td>1055.000000</td>\n",
       "      <td>1055.000000</td>\n",
       "      <td>1055.000000</td>\n",
       "      <td>1055.000000</td>\n",
       "      <td>1055.000000</td>\n",
       "      <td>1055.000000</td>\n",
       "      <td>1055.000000</td>\n",
       "      <td>1055.000000</td>\n",
       "      <td>...</td>\n",
       "      <td>1055.000000</td>\n",
       "      <td>1055.000000</td>\n",
       "      <td>1055.000000</td>\n",
       "      <td>1055.000000</td>\n",
       "      <td>1055.000000</td>\n",
       "      <td>1055.000000</td>\n",
       "      <td>1055.000000</td>\n",
       "      <td>1055.000000</td>\n",
       "      <td>1055.000000</td>\n",
       "      <td>1055.000000</td>\n",
       "    </tr>\n",
       "    <tr>\n",
       "      <th>mean</th>\n",
       "      <td>2006.364929</td>\n",
       "      <td>9061.214493</td>\n",
       "      <td>2017.418009</td>\n",
       "      <td>11.053081</td>\n",
       "      <td>0.019905</td>\n",
       "      <td>0.000948</td>\n",
       "      <td>0.203791</td>\n",
       "      <td>0.036967</td>\n",
       "      <td>0.003791</td>\n",
       "      <td>0.002844</td>\n",
       "      <td>...</td>\n",
       "      <td>0.003791</td>\n",
       "      <td>0.000948</td>\n",
       "      <td>0.000948</td>\n",
       "      <td>0.000948</td>\n",
       "      <td>0.000948</td>\n",
       "      <td>0.000948</td>\n",
       "      <td>0.000948</td>\n",
       "      <td>0.004739</td>\n",
       "      <td>0.003791</td>\n",
       "      <td>0.000948</td>\n",
       "    </tr>\n",
       "    <tr>\n",
       "      <th>std</th>\n",
       "      <td>4.511476</td>\n",
       "      <td>12253.906963</td>\n",
       "      <td>1.086688</td>\n",
       "      <td>4.500793</td>\n",
       "      <td>0.139741</td>\n",
       "      <td>0.030787</td>\n",
       "      <td>0.403007</td>\n",
       "      <td>0.188770</td>\n",
       "      <td>0.061487</td>\n",
       "      <td>0.053275</td>\n",
       "      <td>...</td>\n",
       "      <td>0.061487</td>\n",
       "      <td>0.030787</td>\n",
       "      <td>0.030787</td>\n",
       "      <td>0.030787</td>\n",
       "      <td>0.030787</td>\n",
       "      <td>0.030787</td>\n",
       "      <td>0.030787</td>\n",
       "      <td>0.068712</td>\n",
       "      <td>0.061487</td>\n",
       "      <td>0.030787</td>\n",
       "    </tr>\n",
       "    <tr>\n",
       "      <th>min</th>\n",
       "      <td>1940.000000</td>\n",
       "      <td>0.000000</td>\n",
       "      <td>2016.000000</td>\n",
       "      <td>2.000000</td>\n",
       "      <td>0.000000</td>\n",
       "      <td>0.000000</td>\n",
       "      <td>0.000000</td>\n",
       "      <td>0.000000</td>\n",
       "      <td>0.000000</td>\n",
       "      <td>0.000000</td>\n",
       "      <td>...</td>\n",
       "      <td>0.000000</td>\n",
       "      <td>0.000000</td>\n",
       "      <td>0.000000</td>\n",
       "      <td>0.000000</td>\n",
       "      <td>0.000000</td>\n",
       "      <td>0.000000</td>\n",
       "      <td>0.000000</td>\n",
       "      <td>0.000000</td>\n",
       "      <td>0.000000</td>\n",
       "      <td>0.000000</td>\n",
       "    </tr>\n",
       "    <tr>\n",
       "      <th>25%</th>\n",
       "      <td>2005.000000</td>\n",
       "      <td>3014.500000</td>\n",
       "      <td>2016.000000</td>\n",
       "      <td>9.000000</td>\n",
       "      <td>0.000000</td>\n",
       "      <td>0.000000</td>\n",
       "      <td>0.000000</td>\n",
       "      <td>0.000000</td>\n",
       "      <td>0.000000</td>\n",
       "      <td>0.000000</td>\n",
       "      <td>...</td>\n",
       "      <td>0.000000</td>\n",
       "      <td>0.000000</td>\n",
       "      <td>0.000000</td>\n",
       "      <td>0.000000</td>\n",
       "      <td>0.000000</td>\n",
       "      <td>0.000000</td>\n",
       "      <td>0.000000</td>\n",
       "      <td>0.000000</td>\n",
       "      <td>0.000000</td>\n",
       "      <td>0.000000</td>\n",
       "    </tr>\n",
       "    <tr>\n",
       "      <th>50%</th>\n",
       "      <td>2007.000000</td>\n",
       "      <td>5500.000000</td>\n",
       "      <td>2017.000000</td>\n",
       "      <td>11.000000</td>\n",
       "      <td>0.000000</td>\n",
       "      <td>0.000000</td>\n",
       "      <td>0.000000</td>\n",
       "      <td>0.000000</td>\n",
       "      <td>0.000000</td>\n",
       "      <td>0.000000</td>\n",
       "      <td>...</td>\n",
       "      <td>0.000000</td>\n",
       "      <td>0.000000</td>\n",
       "      <td>0.000000</td>\n",
       "      <td>0.000000</td>\n",
       "      <td>0.000000</td>\n",
       "      <td>0.000000</td>\n",
       "      <td>0.000000</td>\n",
       "      <td>0.000000</td>\n",
       "      <td>0.000000</td>\n",
       "      <td>0.000000</td>\n",
       "    </tr>\n",
       "    <tr>\n",
       "      <th>75%</th>\n",
       "      <td>2008.000000</td>\n",
       "      <td>9700.000000</td>\n",
       "      <td>2018.000000</td>\n",
       "      <td>12.000000</td>\n",
       "      <td>0.000000</td>\n",
       "      <td>0.000000</td>\n",
       "      <td>0.000000</td>\n",
       "      <td>0.000000</td>\n",
       "      <td>0.000000</td>\n",
       "      <td>0.000000</td>\n",
       "      <td>...</td>\n",
       "      <td>0.000000</td>\n",
       "      <td>0.000000</td>\n",
       "      <td>0.000000</td>\n",
       "      <td>0.000000</td>\n",
       "      <td>0.000000</td>\n",
       "      <td>0.000000</td>\n",
       "      <td>0.000000</td>\n",
       "      <td>0.000000</td>\n",
       "      <td>0.000000</td>\n",
       "      <td>0.000000</td>\n",
       "    </tr>\n",
       "    <tr>\n",
       "      <th>max</th>\n",
       "      <td>2017.000000</td>\n",
       "      <td>145000.000000</td>\n",
       "      <td>2019.000000</td>\n",
       "      <td>76.000000</td>\n",
       "      <td>1.000000</td>\n",
       "      <td>1.000000</td>\n",
       "      <td>1.000000</td>\n",
       "      <td>1.000000</td>\n",
       "      <td>1.000000</td>\n",
       "      <td>1.000000</td>\n",
       "      <td>...</td>\n",
       "      <td>1.000000</td>\n",
       "      <td>1.000000</td>\n",
       "      <td>1.000000</td>\n",
       "      <td>1.000000</td>\n",
       "      <td>1.000000</td>\n",
       "      <td>1.000000</td>\n",
       "      <td>1.000000</td>\n",
       "      <td>1.000000</td>\n",
       "      <td>1.000000</td>\n",
       "      <td>1.000000</td>\n",
       "    </tr>\n",
       "  </tbody>\n",
       "</table>\n",
       "<p>8 rows × 643 columns</p>\n",
       "</div>"
      ],
      "text/plain": [
       "              YEAR     SALE_PRICE    SALE_YEAR  EQUIPMENT_AGE     DEPT_CEN  \\\n",
       "count  1055.000000    1055.000000  1055.000000    1055.000000  1055.000000   \n",
       "mean   2006.364929    9061.214493  2017.418009      11.053081     0.019905   \n",
       "std       4.511476   12253.906963     1.086688       4.500793     0.139741   \n",
       "min    1940.000000       0.000000  2016.000000       2.000000     0.000000   \n",
       "25%    2005.000000    3014.500000  2016.000000       9.000000     0.000000   \n",
       "50%    2007.000000    5500.000000  2017.000000      11.000000     0.000000   \n",
       "75%    2008.000000    9700.000000  2018.000000      12.000000     0.000000   \n",
       "max    2017.000000  145000.000000  2019.000000      76.000000     1.000000   \n",
       "\n",
       "          DEPT_DON     DEPT_DPR     DEPT_FAS     DEPT_HSD     DEPT_ITD  ...  \\\n",
       "count  1055.000000  1055.000000  1055.000000  1055.000000  1055.000000  ...   \n",
       "mean      0.000948     0.203791     0.036967     0.003791     0.002844  ...   \n",
       "std       0.030787     0.403007     0.188770     0.061487     0.053275  ...   \n",
       "min       0.000000     0.000000     0.000000     0.000000     0.000000  ...   \n",
       "25%       0.000000     0.000000     0.000000     0.000000     0.000000  ...   \n",
       "50%       0.000000     0.000000     0.000000     0.000000     0.000000  ...   \n",
       "75%       0.000000     0.000000     0.000000     0.000000     0.000000  ...   \n",
       "max       1.000000     1.000000     1.000000     1.000000     1.000000  ...   \n",
       "\n",
       "       DESCRIPTION_VAN CARGO  \\\n",
       "count            1055.000000   \n",
       "mean                0.003791   \n",
       "std                 0.061487   \n",
       "min                 0.000000   \n",
       "25%                 0.000000   \n",
       "50%                 0.000000   \n",
       "75%                 0.000000   \n",
       "max                 1.000000   \n",
       "\n",
       "       DESCRIPTION_VAN CARGO CAMERA WITH GENERATOR 313841  \\\n",
       "count                                        1055.000000    \n",
       "mean                                            0.000948    \n",
       "std                                             0.030787    \n",
       "min                                             0.000000    \n",
       "25%                                             0.000000    \n",
       "50%                                             0.000000    \n",
       "75%                                             0.000000    \n",
       "max                                             1.000000    \n",
       "\n",
       "       DESCRIPTION_VAN CARGO E250  \\\n",
       "count                 1055.000000   \n",
       "mean                     0.000948   \n",
       "std                      0.030787   \n",
       "min                      0.000000   \n",
       "25%                      0.000000   \n",
       "50%                      0.000000   \n",
       "75%                      0.000000   \n",
       "max                      1.000000   \n",
       "\n",
       "       DESCRIPTION_VAN CARGO SPRINTER 3500  9990GVW  \\\n",
       "count                                   1055.000000   \n",
       "mean                                       0.000948   \n",
       "std                                        0.030787   \n",
       "min                                        0.000000   \n",
       "25%                                        0.000000   \n",
       "50%                                        0.000000   \n",
       "75%                                        0.000000   \n",
       "max                                        1.000000   \n",
       "\n",
       "       DESCRIPTION_VAN PASSENGER  DESCRIPTION_VAN PASSENGER FULL SIZE  \\\n",
       "count                1055.000000                          1055.000000   \n",
       "mean                    0.000948                             0.000948   \n",
       "std                     0.030787                             0.030787   \n",
       "min                     0.000000                             0.000000   \n",
       "25%                     0.000000                             0.000000   \n",
       "50%                     0.000000                             0.000000   \n",
       "75%                     0.000000                             0.000000   \n",
       "max                     1.000000                             1.000000   \n",
       "\n",
       "       DESCRIPTION_VAN WALK IN  DESCRIPTION_WALKIN VAN - CLASS 4  \\\n",
       "count              1055.000000                       1055.000000   \n",
       "mean                  0.000948                          0.004739   \n",
       "std                   0.030787                          0.068712   \n",
       "min                   0.000000                          0.000000   \n",
       "25%                   0.000000                          0.000000   \n",
       "50%                   0.000000                          0.000000   \n",
       "75%                   0.000000                          0.000000   \n",
       "max                   1.000000                          1.000000   \n",
       "\n",
       "       DESCRIPTION_WHEEL LOADER - 29000 LB  \\\n",
       "count                          1055.000000   \n",
       "mean                              0.003791   \n",
       "std                               0.061487   \n",
       "min                               0.000000   \n",
       "25%                               0.000000   \n",
       "50%                               0.000000   \n",
       "75%                               0.000000   \n",
       "max                               1.000000   \n",
       "\n",
       "       DESCRIPTION_YARD SWEEPER - SELF PROPELLED  \n",
       "count                                1055.000000  \n",
       "mean                                    0.000948  \n",
       "std                                     0.030787  \n",
       "min                                     0.000000  \n",
       "25%                                     0.000000  \n",
       "50%                                     0.000000  \n",
       "75%                                     0.000000  \n",
       "max                                     1.000000  \n",
       "\n",
       "[8 rows x 643 columns]"
      ]
     },
     "execution_count": 8,
     "metadata": {},
     "output_type": "execute_result"
    }
   ],
   "source": [
    "df.describe()"
   ]
  },
  {
   "cell_type": "code",
   "execution_count": 9,
   "metadata": {},
   "outputs": [
    {
     "data": {
      "text/plain": [
       "<matplotlib.axes._subplots.AxesSubplot at 0x2394b5236c8>"
      ]
     },
     "execution_count": 9,
     "metadata": {},
     "output_type": "execute_result"
    },
    {
     "data": {
      "image/png": "[encoded data removed]",
      "text/plain": [
       "<Figure size 432x288 with 1 Axes>"
      ]
     },
     "metadata": {
      "needs_background": "light"
     },
     "output_type": "display_data"
    }
   ],
   "source": [
    "sns.distplot(df['SALE_PRICE'], kde=False, bins=30)"
   ]
  },
  {
   "cell_type": "code",
   "execution_count": 10,
   "metadata": {},
   "outputs": [],
   "source": [
    "from sklearn.ensemble import RandomForestClassifier\n",
    "from sklearn.ensemble import RandomForestRegressor\n",
    "from sklearn.model_selection import train_test_split"
   ]
  },
  {
   "cell_type": "code",
   "execution_count": 11,
   "metadata": {},
   "outputs": [],
   "source": [
    "feature_col = df.select_dtypes(include=['integer'])"
   ]
  },
  {
   "cell_type": "code",
   "execution_count": 12,
   "metadata": {},
   "outputs": [],
   "source": [
    "features = feature_col.columns.values"
   ]
  },
  {
   "cell_type": "code",
   "execution_count": 13,
   "metadata": {},
   "outputs": [],
   "source": [
    "features = features[features != 'SALE_YEAR']"
   ]
  },
  {
   "cell_type": "code",
   "execution_count": 14,
   "metadata": {},
   "outputs": [
    {
     "name": "stdout",
     "output_type": "stream",
     "text": [
      "Total number of features:  641\n"
     ]
    }
   ],
   "source": [
    "print(\"Total number of features: \", features.size)"
   ]
  },
  {
   "cell_type": "code",
   "execution_count": 15,
   "metadata": {},
   "outputs": [],
   "source": [
    "target = 'SALE_PRICE'\n",
    "\n",
    "X = df[features]\n",
    "y = df[target]\n",
    "\n",
    "X_train, X_test, y_train, y_test = train_test_split(X, y, test_size=0.2, random_state=99)"
   ]
  },
  {
   "cell_type": "code",
   "execution_count": 16,
   "metadata": {},
   "outputs": [
    {
     "data": {
      "text/plain": [
       "RandomForestRegressor(bootstrap=True, criterion='mse', max_depth=None,\n",
       "                      max_features='auto', max_leaf_nodes=None,\n",
       "                      min_impurity_decrease=0.0, min_impurity_split=None,\n",
       "                      min_samples_leaf=1, min_samples_split=2,\n",
       "                      min_weight_fraction_leaf=0.0, n_estimators=200,\n",
       "                      n_jobs=None, oob_score=True, random_state=99, verbose=0,\n",
       "                      warm_start=False)"
      ]
     },
     "execution_count": 16,
     "metadata": {},
     "output_type": "execute_result"
    }
   ],
   "source": [
    "rf = RandomForestRegressor(n_estimators=200, oob_score=True, random_state=99)\n",
    "rf.fit(X_train, y_train)"
   ]
  },
  {
   "cell_type": "code",
   "execution_count": 17,
   "metadata": {},
   "outputs": [],
   "source": [
    "def rf_feat_importance(m, df):\n",
    "    return pd.DataFrame({'cols':df.columns, 'imp':m.feature_importances_}\n",
    "                       ).sort_values('imp', ascending=False)"
   ]
  },
  {
   "cell_type": "code",
   "execution_count": 18,
   "metadata": {},
   "outputs": [
    {
     "data": {
      "text/html": [
       "<div>\n",
       "<style scoped>\n",
       "    .dataframe tbody tr th:only-of-type {\n",
       "        vertical-align: middle;\n",
       "    }\n",
       "\n",
       "    .dataframe tbody tr th {\n",
       "        vertical-align: top;\n",
       "    }\n",
       "\n",
       "    .dataframe thead th {\n",
       "        text-align: right;\n",
       "    }\n",
       "</style>\n",
       "<table border=\"1\" class=\"dataframe\">\n",
       "  <thead>\n",
       "    <tr style=\"text-align: right;\">\n",
       "      <th></th>\n",
       "      <th>cols</th>\n",
       "      <th>imp</th>\n",
       "    </tr>\n",
       "  </thead>\n",
       "  <tbody>\n",
       "    <tr>\n",
       "      <th>72</th>\n",
       "      <td>MAKE_PETERBILT</td>\n",
       "      <td>0.278126</td>\n",
       "    </tr>\n",
       "    <tr>\n",
       "      <th>0</th>\n",
       "      <td>YEAR</td>\n",
       "      <td>0.074434</td>\n",
       "    </tr>\n",
       "    <tr>\n",
       "      <th>55</th>\n",
       "      <td>MAKE_JOHN DEERE</td>\n",
       "      <td>0.050741</td>\n",
       "    </tr>\n",
       "    <tr>\n",
       "      <th>337</th>\n",
       "      <td>Equipment Type_TRUCK - DUMP TRUCK</td>\n",
       "      <td>0.049614</td>\n",
       "    </tr>\n",
       "    <tr>\n",
       "      <th>57</th>\n",
       "      <td>MAKE_KENWORTH</td>\n",
       "      <td>0.045951</td>\n",
       "    </tr>\n",
       "    <tr>\n",
       "      <th>11</th>\n",
       "      <td>DEPT_SPD</td>\n",
       "      <td>0.040232</td>\n",
       "    </tr>\n",
       "    <tr>\n",
       "      <th>254</th>\n",
       "      <td>MODEL_T800B</td>\n",
       "      <td>0.035504</td>\n",
       "    </tr>\n",
       "    <tr>\n",
       "      <th>1</th>\n",
       "      <td>EQUIPMENT_AGE</td>\n",
       "      <td>0.033735</td>\n",
       "    </tr>\n",
       "    <tr>\n",
       "      <th>13</th>\n",
       "      <td>DEPT_SPU</td>\n",
       "      <td>0.033714</td>\n",
       "    </tr>\n",
       "    <tr>\n",
       "      <th>288</th>\n",
       "      <td>Equipment Type_EXCAVATOR</td>\n",
       "      <td>0.022030</td>\n",
       "    </tr>\n",
       "  </tbody>\n",
       "</table>\n",
       "</div>"
      ],
      "text/plain": [
       "                                  cols       imp\n",
       "72                      MAKE_PETERBILT  0.278126\n",
       "0                                 YEAR  0.074434\n",
       "55                     MAKE_JOHN DEERE  0.050741\n",
       "337  Equipment Type_TRUCK - DUMP TRUCK  0.049614\n",
       "57                       MAKE_KENWORTH  0.045951\n",
       "11                            DEPT_SPD  0.040232\n",
       "254                        MODEL_T800B  0.035504\n",
       "1                        EQUIPMENT_AGE  0.033735\n",
       "13                            DEPT_SPU  0.033714\n",
       "288           Equipment Type_EXCAVATOR  0.022030"
      ]
     },
     "execution_count": 18,
     "metadata": {},
     "output_type": "execute_result"
    }
   ],
   "source": [
    "# top 10 features by importance\n",
    "fi = rf_feat_importance(rf, X_train)\n",
    "fi[:10]"
   ]
  },
  {
   "cell_type": "code",
   "execution_count": 19,
   "metadata": {},
   "outputs": [
    {
     "name": "stdout",
     "output_type": "stream",
     "text": [
      "R^2 score Train data : 0.939\n",
      "R^2 score Test data: 0.876\n",
      "R^2 score Out-of-bag estimate: 0.636\n",
      "Spearman correlation Test data : 0.873\n",
      "Pearson correlation Test data : 0.937\n"
     ]
    }
   ],
   "source": [
    "from sklearn.metrics import r2_score, accuracy_score\n",
    "from scipy.stats import spearmanr, pearsonr\n",
    "\n",
    "predicted_train = rf.predict(X_train)\n",
    "predicted_test = rf.predict(X_test)\n",
    "\n",
    "train_score = r2_score(y_train, predicted_train)\n",
    "test_score = r2_score(y_test, predicted_test)\n",
    "spearman = spearmanr(y_test, predicted_test)\n",
    "pearson = pearsonr(y_test, predicted_test)\n",
    "\n",
    "print(f'R^2 score Train data : {train_score:>5.3}')\n",
    "print(f'R^2 score Test data: {test_score:>5.3}')\n",
    "print(f'R^2 score Out-of-bag estimate: {rf.oob_score_:>5.3}')\n",
    "print(f'Spearman correlation Test data : {spearman[0]:.3}')\n",
    "print(f'Pearson correlation Test data : {pearson[0]:.3}')"
   ]
  },
  {
   "cell_type": "code",
   "execution_count": 20,
   "metadata": {},
   "outputs": [
    {
     "name": "stdout",
     "output_type": "stream",
     "text": [
      "Fitting 3 folds for each of 24 candidates, totalling 72 fits\n"
     ]
    },
    {
     "name": "stderr",
     "output_type": "stream",
     "text": [
      "[Parallel(n_jobs=-1)]: Using backend LokyBackend with 8 concurrent workers.\n",
      "[Parallel(n_jobs=-1)]: Done  34 tasks      | elapsed:   24.7s\n",
      "[Parallel(n_jobs=-1)]: Done  72 out of  72 | elapsed:   43.7s finished\n"
     ]
    }
   ],
   "source": [
    "# find best hyperparameters using GridSearch\n",
    "from sklearn.model_selection import GridSearchCV\n",
    "\n",
    "n_estimators = [200, 250]\n",
    "max_depth = [50, 75, 100]\n",
    "min_samples_split = [2, 5]\n",
    "min_samples_leaf = [1, 2] \n",
    "\n",
    "hyperF = dict(n_estimators = n_estimators, max_depth = max_depth,  \n",
    "              min_samples_split = min_samples_split, \n",
    "             min_samples_leaf = min_samples_leaf)\n",
    "\n",
    "gridF = GridSearchCV(rf, hyperF, cv = 3, verbose = 1, n_jobs=-1)\n",
    "bestF = gridF.fit(X_train, y_train)"
   ]
  },
  {
   "cell_type": "code",
   "execution_count": 21,
   "metadata": {},
   "outputs": [
    {
     "data": {
      "text/plain": [
       "{'max_depth': 50,\n",
       " 'min_samples_leaf': 1,\n",
       " 'min_samples_split': 2,\n",
       " 'n_estimators': 200}"
      ]
     },
     "execution_count": 21,
     "metadata": {},
     "output_type": "execute_result"
    }
   ],
   "source": [
    "bestF.best_params_"
   ]
  },
  {
   "cell_type": "code",
   "execution_count": 24,
   "metadata": {},
   "outputs": [
    {
     "name": "stdout",
     "output_type": "stream",
     "text": [
      "R^2 score Test data: 0.876\n",
      "R^2 score Test data (best fit): 0.881\n",
      "R^2 score improvement of: 0.00466\n"
     ]
    }
   ],
   "source": [
    "predicted_test_bf = bestF.predict(X_test)\n",
    "test_score_bf = r2_score(y_test, predicted_test_bf)\n",
    "\n",
    "print(f'R^2 score Test data: {test_score:>5.3}')\n",
    "print(f'R^2 score Test data (best fit): {test_score_bf:>5.3}')\n",
    "print(f'R^2 score improvement of: {test_score_bf - test_score :>5.3}')"
   ]
  },
  {
   "cell_type": "code",
   "execution_count": 23,
   "metadata": {
    "scrolled": true
   },
   "outputs": [
    {
     "data": {
      "image/png": "[encoded data removed]",
      "text/plain": [
       "<Figure size 432x288 with 1 Axes>"
      ]
     },
     "metadata": {
      "needs_background": "light"
     },
     "output_type": "display_data"
    }
   ],
   "source": [
    "y_pred = bestF.predict(X_test)\n",
    "\n",
    "# Build a plot\n",
    "plt.scatter(y_pred, y_test,edgecolors=(0, 0, 0))\n",
    "plt.xlabel('Actual')\n",
    "plt.ylabel('Predicted')\n",
    "\n",
    "# Now add the perfect prediction line\n",
    "diagonal = np.linspace(0, np.max(y_test), 100)\n",
    "plt.plot(diagonal, diagonal, '-r', lw=2)\n",
    "plt.show()"
   ]
  }
 ],
 "metadata": {
  "kernelspec": {
   "display_name": "Python 3",
   "language": "python",
   "name": "python3"
  },
  "language_info": {
   "codemirror_mode": {
    "name": "ipython",
    "version": 3
   },
   "file_extension": ".py",
   "mimetype": "text/x-python",
   "name": "python",
   "nbconvert_exporter": "python",
   "pygments_lexer": "ipython3",
   "version": "3.7.4"
  }
 },
 "nbformat": 4,
 "nbformat_minor": 2
}
